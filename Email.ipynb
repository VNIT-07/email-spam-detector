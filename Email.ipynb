{
 "cells": [
  {
   "cell_type": "code",
   "execution_count": 1,
   "id": "c8b8ef49",
   "metadata": {},
   "outputs": [],
   "source": [
    "import pandas as pd "
   ]
  },
  {
   "cell_type": "code",
   "execution_count": 2,
   "id": "b1d527b8",
   "metadata": {},
   "outputs": [],
   "source": [
    "df = pd.read_csv('email.csv')\n",
    "\n",
    "x = df['Message']\n",
    "y = df['Category']\n",
    "\n",
    "from sklearn.model_selection import train_test_split\n",
    "xTrain, xTest, yTrain, yTest = train_test_split(x,y,test_size=0.33,random_state=0)"
   ]
  },
  {
   "cell_type": "code",
   "execution_count": 3,
   "id": "495d332e",
   "metadata": {},
   "outputs": [],
   "source": [
    "from sklearn.tree import DecisionTreeClassifier\n",
    "from sklearn.feature_extraction.text import TfidfVectorizer\n",
    "\n",
    "Tfind = TfidfVectorizer()\n",
    "xTrain_vec = Tfind.fit_transform(xTrain)\n",
    "xTest_vec = Tfind.transform(xTest)\n",
    "\n",
    "model = DecisionTreeClassifier(random_state=0)\n",
    "model.fit(xTrain_vec, yTrain)\n",
    "yPred = model.predict(xTest_vec)"
   ]
  },
  {
   "cell_type": "code",
   "execution_count": 4,
   "id": "af7e4141",
   "metadata": {},
   "outputs": [
    {
     "name": "stdout",
     "output_type": "stream",
     "text": [
      "0.967373572593801\n",
      "----------------------------------\n",
      "              precision    recall  f1-score   support\n",
      "\n",
      "         ham       0.97      0.99      0.98      1597\n",
      "        spam       0.93      0.81      0.87       242\n",
      "\n",
      "    accuracy                           0.97      1839\n",
      "   macro avg       0.95      0.90      0.92      1839\n",
      "weighted avg       0.97      0.97      0.97      1839\n",
      "\n",
      "----------------------------------\n",
      "[[1582   15]\n",
      " [  45  197]]\n"
     ]
    }
   ],
   "source": [
    "from sklearn.metrics import accuracy_score, classification_report, confusion_matrix\n",
    "print(accuracy_score(yTest,yPred))\n",
    "print(\"----------------------------------\")\n",
    "print(classification_report(yTest,yPred))\n",
    "print(\"----------------------------------\")\n",
    "print(confusion_matrix(yTest,yPred))"
   ]
  },
  {
   "cell_type": "code",
   "execution_count": 7,
   "id": "12ed099f",
   "metadata": {},
   "outputs": [
    {
     "data": {
      "image/png": "[encoded data removed]",
      "text/plain": [
       "<Figure size 640x480 with 2 Axes>"
      ]
     },
     "metadata": {},
     "output_type": "display_data"
    }
   ],
   "source": [
    "import seaborn as sns\n",
    "import matplotlib.pyplot as plt\n",
    "\n",
    "cm = confusion_matrix(yTest, yPred)\n",
    "sns.heatmap(cm, annot=True, fmt='d', cmap='Blues')\n",
    "plt.xlabel('Predicted')\n",
    "plt.ylabel('Actual')\n",
    "plt.title('Confusion Matrix')\n",
    "plt.show()\n"
   ]
  },
  {
   "cell_type": "code",
   "execution_count": 6,
   "id": "b088ccbf",
   "metadata": {},
   "outputs": [
    {
     "data": {
      "text/plain": [
       "['email_tfidf_vectorizer.pkl']"
      ]
     },
     "execution_count": 6,
     "metadata": {},
     "output_type": "execute_result"
    }
   ],
   "source": [
    "import joblib\n",
    "joblib.dump(model, 'email_dt_model.pkl')\n",
    "joblib.dump(Tfind, 'email_tfidf_vectorizer.pkl')\n"
   ]
  }
 ],
 "metadata": {
  "kernelspec": {
   "display_name": "Python 3",
   "language": "python",
   "name": "python3"
  },
  "language_info": {
   "codemirror_mode": {
    "name": "ipython",
    "version": 3
   },
   "file_extension": ".py",
   "mimetype": "text/x-python",
   "name": "python",
   "nbconvert_exporter": "python",
   "pygments_lexer": "ipython3",
   "version": "3.12.4"
  }
 },
 "nbformat": 4,
 "nbformat_minor": 5
}
